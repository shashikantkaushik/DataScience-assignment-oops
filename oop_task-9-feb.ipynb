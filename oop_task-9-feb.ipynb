{
 "cells": [
  {
   "cell_type": "code",
   "execution_count": 2,
   "id": "032cf0ca-bd55-4679-88a4-d0cb7084d9cd",
   "metadata": {},
   "outputs": [],
   "source": [
    "\"\"\"Q1, Create a vehicle class with an init method having instance variables as name_of_vehicle, max_speed\n",
    "and average_of_vehicle.\"\"\"\n",
    "class vehicle:\n",
    "    def __init__(self,name_of_vehicle,max_speed,average_of_vehicle):\n",
    "        self.name_of_vehicle=name_of_vehicle\n",
    "        self.max_speed=max_speed\n",
    "        self.average_of_vehicle=average_of_vehicle\n",
    "        "
   ]
  },
  {
   "cell_type": "code",
   "execution_count": 4,
   "id": "cc496e72-da81-44d5-b86e-c3ad09815033",
   "metadata": {},
   "outputs": [],
   "source": [
    "\"\"\"Q2. Create a child class car from the vehicle class created in Que 1, which will inherit the vehicle class.\n",
    "Create a method named seating_capacity which takes capacity as an argument and returns the name of\n",
    "the vehicle and its seating capacity.\"\"\"\n",
    "class car(vehicle):\n",
    "    def seating_capacity(self,capacity):\n",
    "        self.capacity=capacity\n",
    "        return self.name_of_vehicle, self.capacity"
   ]
  },
  {
   "cell_type": "code",
   "execution_count": 6,
   "id": "4aae0e6d-fc4d-4a03-8862-5a60776a46b2",
   "metadata": {},
   "outputs": [],
   "source": [
    "car=car(\"maruti\",80,50)"
   ]
  },
  {
   "cell_type": "code",
   "execution_count": 7,
   "id": "ff3ecd1d-52df-4b9d-bf5b-222e430e70b1",
   "metadata": {},
   "outputs": [
    {
     "data": {
      "text/plain": [
       "('maruti', 5)"
      ]
     },
     "execution_count": 7,
     "metadata": {},
     "output_type": "execute_result"
    }
   ],
   "source": [
    "car.seating_capacity(5)"
   ]
  },
  {
   "cell_type": "code",
   "execution_count": 8,
   "id": "9cff2a86-b111-4e36-bf9e-a321284c19b5",
   "metadata": {},
   "outputs": [],
   "source": [
    "\"\"\"Q3. What is multiple inheritance? Write a python code to demonstrate multiple inheritance.\n",
    "Multiple inheritance is a feature in object-oriented programming (OOP) where a class can inherit properties\n",
    "and behaviors from more than one parent class. It means a single class can inherit from multiple base classes \n",
    "and inherit the attributes and methods of all the parent classes. This allows for creating new classes that are\n",
    "more specialized and have a combination of properties from multiple parent classes.\"\"\"\n",
    "class c1:\n",
    "    def c1(self):\n",
    "        return\"this is first class c1\"\n",
    "class c2:\n",
    "    def c2(self):\n",
    "        return\"this is 2nd class c2\"\n",
    "class c3(c1,c2):\n",
    "    pass"
   ]
  },
  {
   "cell_type": "code",
   "execution_count": 16,
   "id": "04ea1992-6765-4d18-9525-d170439f9ca3",
   "metadata": {},
   "outputs": [
    {
     "data": {
      "text/plain": [
       "'this is first class c1'"
      ]
     },
     "execution_count": 16,
     "metadata": {},
     "output_type": "execute_result"
    }
   ],
   "source": [
    "obj=c3()\n",
    "obj.c1()"
   ]
  },
  {
   "cell_type": "code",
   "execution_count": 17,
   "id": "dc6327ca-bb41-4747-8cd5-dfd324cecb3d",
   "metadata": {},
   "outputs": [
    {
     "data": {
      "text/plain": [
       "'this is 2nd class c2'"
      ]
     },
     "execution_count": 17,
     "metadata": {},
     "output_type": "execute_result"
    }
   ],
   "source": [
    "\n",
    "obj.c2()"
   ]
  },
  {
   "cell_type": "code",
   "execution_count": 19,
   "id": "c695c0ef-b617-42ac-b144-c44c08f9cb68",
   "metadata": {},
   "outputs": [],
   "source": [
    "\"\"\"Q4. What are getter and setter in python?Create a class and create a getter and a setter method in this\n",
    "class.\n",
    "Q5.What is method overriding in python? Write a python code to demonstrate method overriding.\n",
    "In Python, getters and setters are used to define the methods that get and set the values of an \n",
    "object's attributes, respectively. They are used to encapsulate the internal representation of an object,\n",
    "and to ensure that any changes to an object's attributes are properly controlled.\n",
    "\n",
    "A getter method is used to retrieve the value of an object's attribute. It is typically defined using the\n",
    "@property decorator, which allows the method to be accessed as if it were an attribute of the object.\n",
    "A setter method is used to set the value of an object's attribute. It is defined using the @attribute_name.setter\n",
    "decorator, where attribute_name is the name of the attribute.\n",
    "\"\"\"\n",
    "class bike:\n",
    "    def __init__(self,year,model,avg):\n",
    "        self.year=year\n",
    "        self.model=model\n",
    "        self.__avg=avg\n",
    "    def set_avg(self,avg):\n",
    "        self.__avg=0 if avg<0 else avg\n",
    "    def get_avg(self):\n",
    "        return self.__avg\n",
    "    \n",
    "b=bike(2021,\"honda\",40)\n",
    "\n",
    "\n"
   ]
  },
  {
   "cell_type": "code",
   "execution_count": 20,
   "id": "a2e23b42-b95b-4117-9d81-387ba7e93254",
   "metadata": {},
   "outputs": [
    {
     "data": {
      "text/plain": [
       "40"
      ]
     },
     "execution_count": 20,
     "metadata": {},
     "output_type": "execute_result"
    }
   ],
   "source": [
    "b.get_avg()"
   ]
  },
  {
   "cell_type": "code",
   "execution_count": 21,
   "id": "314e43c2-c653-456c-b612-7416c7b7cf55",
   "metadata": {},
   "outputs": [],
   "source": [
    "b.set_avg(10)"
   ]
  },
  {
   "cell_type": "code",
   "execution_count": 22,
   "id": "3c4eeb9b-7bbd-4edb-8fa7-b9b37e2a789e",
   "metadata": {},
   "outputs": [
    {
     "data": {
      "text/plain": [
       "10"
      ]
     },
     "execution_count": 22,
     "metadata": {},
     "output_type": "execute_result"
    }
   ],
   "source": [
    "b.get_avg()"
   ]
  },
  {
   "cell_type": "code",
   "execution_count": null,
   "id": "bff26378-345b-4a3e-bf0a-91fba7c18dd1",
   "metadata": {},
   "outputs": [],
   "source": [
    "\"\"\"Q5.What is method overriding in python? Write a python code to demonstrate method overriding.\n",
    "Method overriding in Python refers to the ability of a subclass to provide a new implementation \n",
    "of a method that is already defined in its parent class.\n",
    "The subclass can override the method of the parent class by defining a method with the same name in the subclass.\n",
    "\n",
    "When a method is called on an object of the subclass, the new implementation in the subclass is executed,\n",
    "instead of the original implementation in the parent class. This allows the subclass to inherit the behavior\n",
    "of the parent class but to customize it as needed.\n",
    "\n"
   ]
  }
 ],
 "metadata": {
  "kernelspec": {
   "display_name": "Python 3 (ipykernel)",
   "language": "python",
   "name": "python3"
  },
  "language_info": {
   "codemirror_mode": {
    "name": "ipython",
    "version": 3
   },
   "file_extension": ".py",
   "mimetype": "text/x-python",
   "name": "python",
   "nbconvert_exporter": "python",
   "pygments_lexer": "ipython3",
   "version": "3.10.8"
  }
 },
 "nbformat": 4,
 "nbformat_minor": 5
}
